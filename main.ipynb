{
 "cells": [
  {
   "cell_type": "code",
   "execution_count": 1,
   "metadata": {
    "collapsed": true
   },
   "outputs": [],
   "source": [
    "import requests\n",
    "import pandas as pd\n",
    "import urllib3\n",
    "import sqlite3\n",
    "import ryan_tools as rt\n",
    "import sql_tools\n",
    "import time\n",
    "import numpy as np\n",
    "from datetime import datetime, timedelta\n",
    "import threading\n",
    "requests.packages.urllib3.disable_warnings()"
   ]
  },
  {
   "cell_type": "code",
   "execution_count": 17,
   "metadata": {},
   "outputs": [
    {
     "name": "stderr",
     "output_type": "stream",
     "text": [
      "C:\\Users\\rfrancis\\AppData\\Local\\Continuum\\anaconda3\\lib\\site-packages\\matplotlib\\cbook\\deprecation.py:106: MatplotlibDeprecationWarning: The finance module has been deprecated in mpl 2.0 and will be removed in mpl 2.2. Please use the module mpl_finance instead.\n",
      "  warnings.warn(message, mplDeprecation, stacklevel=1)\n"
     ]
    }
   ],
   "source": [
    "import matplotlib.pyplot as plt\n",
    "from matplotlib.finance import candlestick_ohlc\n",
    "\n",
    "def chart_candles(candles):\n",
    "\n",
    "        ohlc = []\n",
    "        for index in candles.index:\n",
    "            time = index\n",
    "            open_= candles.loc[index, 'open']\n",
    "            high = candles.loc[index, 'high']\n",
    "            low= candles.loc[index, 'low']\n",
    "            close = candles.loc[index, 'close']\n",
    "            ohlc.append([time, open_, high, low, close])\n",
    "        \n",
    "        fig = plt.figure()\n",
    "        fig.set_size_inches(13, 7)\n",
    "        ax1 = plt.subplot2grid((1,1), (0,0))\n",
    "        candlestick_ohlc(ax1, ohlc, width=0.4)\n",
    "        plt.show()"
   ]
  },
  {
   "cell_type": "code",
   "execution_count": 2,
   "metadata": {
    "collapsed": true
   },
   "outputs": [],
   "source": [
    "url = 'https://api.gdax.com'\n",
    "fire = sql_tools.IcePick(sqlite3, 'fire.db')"
   ]
  },
  {
   "cell_type": "code",
   "execution_count": 3,
   "metadata": {
    "collapsed": true
   },
   "outputs": [],
   "source": [
    "check = None"
   ]
  },
  {
   "cell_type": "code",
   "execution_count": 41,
   "metadata": {
    "collapsed": true
   },
   "outputs": [],
   "source": [
    "last_message = datetime.now()\n",
    "\n",
    "def _get( path, params=None):\n",
    "    global last_message\n",
    "    now = datetime.now()\n",
    "    if (now - last_message).total_seconds() <= 1:\n",
    "        time.sleep(1)\n",
    "    r = requests.get(url + path, params=params, timeout=30, verify = False)\n",
    "    if r.status_code == 429 or r.status_code == 404:\n",
    "        time.sleep(2)\n",
    "        r = requests.get(url + path, params=params, timeout=30, verify = False)\n",
    "    global check\n",
    "    check = r\n",
    "    last_message = datetime.now()\n",
    "    return r.json()"
   ]
  },
  {
   "cell_type": "code",
   "execution_count": 5,
   "metadata": {
    "collapsed": true
   },
   "outputs": [],
   "source": [
    "def get_time():\n",
    "    return _get('/time')\n",
    "def get_time_difference():\n",
    "    return pd.to_datetime(get_time()['iso']) - datetime.now()\n",
    "time_difference = get_time_difference()"
   ]
  },
  {
   "cell_type": "code",
   "execution_count": 6,
   "metadata": {
    "collapsed": true
   },
   "outputs": [],
   "source": [
    "\n",
    "def get_candles(product_id, start=None, end=None, granularity=None):\n",
    "    params = {}\n",
    "    if start is not None:\n",
    "        start = start + time_difference\n",
    "        params['start'] = start.isoformat()\n",
    "    if end is not None:\n",
    "        end = end + time_difference\n",
    "        params['end'] = end.isoformat()\n",
    "    if granularity is not None:\n",
    "        params['granularity'] = granularity\n",
    "    candles = _get('/products/{}/candles'.format(str(product_id)), params=params)\n",
    "    candles = pd.DataFrame(candles, columns = [ 'time', 'low', 'high', 'open', 'close', 'volume' ])\n",
    "    candles['time_string'] = candles['time'].apply(datetime.fromtimestamp)\n",
    "    candles.sort_values('time', inplace= True)\n",
    "    candles.set_index('time', inplace= True)\n",
    "    return candles"
   ]
  },
  {
   "cell_type": "code",
   "execution_count": 7,
   "metadata": {
    "collapsed": true
   },
   "outputs": [],
   "source": [
    "products = _get('/products')\n",
    "products = pd.DataFrame(products)"
   ]
  },
  {
   "cell_type": "code",
   "execution_count": 8,
   "metadata": {
    "collapsed": true
   },
   "outputs": [],
   "source": [
    "con = sqlite3.connect('fire.db', check_same_thread = False)\n",
    "\n",
    "def initalize(product_ids, start_time, end_time , candle_width_seconds):\n",
    "    for product_id in product_ids:\n",
    "        candles = get_candles(product_id, start, end, candle_width_seconds)\n",
    "        candles.to_sql(product_id, con, if_exists = 'replace')"
   ]
  },
  {
   "cell_type": "code",
   "execution_count": 9,
   "metadata": {
    "collapsed": true
   },
   "outputs": [],
   "source": [
    "def add_candles(product_id, candles):\n",
    "    current = fire.get_data(product_id, ['time'])\n",
    "    s1 = candles.index\n",
    "    s2 = current['time']\n",
    "    remove_list = pd.Series(list(set(s1).intersection(set(s2))))\n",
    "    remove_list = \"','\".join(str(x) for x in list(remove_list))\n",
    "    sql = \"\"\"\n",
    "    delete from [{}]\n",
    "    where time in ('{}')\n",
    "    \n",
    "    \"\"\".format( product_id, remove_list)\n",
    "    con.execute(sql)\n",
    "    con.commit()\n",
    "    candles.to_sql(product_id, con, if_exists = 'append')\n",
    "    return \n",
    "\n",
    "def update_candles(product_id_list, candle_width_seconds):\n",
    "    end = datetime.now()\n",
    "    start = end - timedelta(seconds = candle_width_seconds * 2)\n",
    "    for product_id in product_id_list:\n",
    "        candles = get_candles(product_id, start=start, end=end, granularity=candle_width_seconds)\n",
    "        add_candles(product_id, candles)"
   ]
  },
  {
   "cell_type": "code",
   "execution_count": 10,
   "metadata": {
    "collapsed": true
   },
   "outputs": [],
   "source": [
    "stopped = False\n",
    "def keep_tuned():\n",
    "    current_minute = datetime.now().minute\n",
    "    global stopped\n",
    "    while not stopped:\n",
    "        now = datetime.now().minute\n",
    "        if now != current_minute:\n",
    "            update_candles(products['id'], 60.0000000000001)\n",
    "            current_minute = now"
   ]
  },
  {
   "cell_type": "code",
   "execution_count": 11,
   "metadata": {
    "collapsed": true
   },
   "outputs": [],
   "source": [
    "def check_if_ok(time_cols):\n",
    "    last = None\n",
    "    for x in time_cols:\n",
    "        ex = pd.to_datetime(x)\n",
    "        if last == None:\n",
    "            last = ex - timedelta(seconds = 60)\n",
    "        if last != (ex - timedelta(seconds = 60)):\n",
    "            print(ex)\n",
    "        last = ex "
   ]
  },
  {
   "cell_type": "code",
   "execution_count": 31,
   "metadata": {},
   "outputs": [
    {
     "data": {
      "text/plain": [
       "'2017-12-15 15:09:00'"
      ]
     },
     "execution_count": 31,
     "metadata": {},
     "output_type": "execute_result"
    }
   ],
   "source": [
    "fire.get_data('ETH-USD')['time_string'].max()"
   ]
  },
  {
   "cell_type": "code",
   "execution_count": 42,
   "metadata": {},
   "outputs": [
    {
     "ename": "ValueError",
     "evalue": "If using all scalar values, you must pass an index",
     "output_type": "error",
     "traceback": [
      "\u001b[1;31m---------------------------------------------------------------------------\u001b[0m",
      "\u001b[1;31mValueError\u001b[0m                                Traceback (most recent call last)",
      "\u001b[1;32m<ipython-input-42-4d8d53aa7c7b>\u001b[0m in \u001b[0;36m<module>\u001b[1;34m()\u001b[0m\n\u001b[0;32m      8\u001b[0m         \u001b[0mstart\u001b[0m \u001b[1;33m=\u001b[0m \u001b[0mend\u001b[0m\u001b[1;33m\u001b[0m\u001b[0m\n\u001b[0;32m      9\u001b[0m \u001b[1;33m\u001b[0m\u001b[0m\n\u001b[1;32m---> 10\u001b[1;33m \u001b[0mfill_gap\u001b[0m\u001b[1;33m(\u001b[0m\u001b[1;33m[\u001b[0m\u001b[1;34m'ETH-USD'\u001b[0m\u001b[1;33m]\u001b[0m\u001b[1;33m,\u001b[0m \u001b[1;36m60\u001b[0m\u001b[1;33m)\u001b[0m\u001b[1;33m\u001b[0m\u001b[0m\n\u001b[0m",
      "\u001b[1;32m<ipython-input-42-4d8d53aa7c7b>\u001b[0m in \u001b[0;36mfill_gap\u001b[1;34m(product_id, candle_width_seconds)\u001b[0m\n\u001b[0;32m      4\u001b[0m     \u001b[1;32mwhile\u001b[0m \u001b[0mstart\u001b[0m \u001b[1;33m<\u001b[0m \u001b[0mnow\u001b[0m\u001b[1;33m:\u001b[0m\u001b[1;33m\u001b[0m\u001b[0m\n\u001b[0;32m      5\u001b[0m         \u001b[0mend\u001b[0m \u001b[1;33m=\u001b[0m \u001b[0mstart\u001b[0m \u001b[1;33m+\u001b[0m \u001b[0mtimedelta\u001b[0m\u001b[1;33m(\u001b[0m\u001b[0mseconds\u001b[0m \u001b[1;33m=\u001b[0m \u001b[1;36m60\u001b[0m \u001b[1;33m*\u001b[0m \u001b[1;36m200\u001b[0m\u001b[1;33m)\u001b[0m\u001b[1;33m\u001b[0m\u001b[0m\n\u001b[1;32m----> 6\u001b[1;33m         \u001b[0mcandles\u001b[0m \u001b[1;33m=\u001b[0m \u001b[0mget_candles\u001b[0m\u001b[1;33m(\u001b[0m\u001b[0mproduct_id\u001b[0m\u001b[1;33m,\u001b[0m \u001b[0mstart\u001b[0m\u001b[1;33m=\u001b[0m\u001b[0mstart\u001b[0m\u001b[1;33m,\u001b[0m \u001b[0mend\u001b[0m\u001b[1;33m=\u001b[0m\u001b[0mend\u001b[0m\u001b[1;33m,\u001b[0m \u001b[0mgranularity\u001b[0m\u001b[1;33m=\u001b[0m\u001b[0mcandle_width_seconds\u001b[0m\u001b[1;33m)\u001b[0m\u001b[1;33m\u001b[0m\u001b[0m\n\u001b[0m\u001b[0;32m      7\u001b[0m         \u001b[0madd_candles\u001b[0m\u001b[1;33m(\u001b[0m\u001b[0mproduct_id\u001b[0m\u001b[1;33m,\u001b[0m \u001b[0mcandles\u001b[0m\u001b[1;33m)\u001b[0m\u001b[1;33m\u001b[0m\u001b[0m\n\u001b[0;32m      8\u001b[0m         \u001b[0mstart\u001b[0m \u001b[1;33m=\u001b[0m \u001b[0mend\u001b[0m\u001b[1;33m\u001b[0m\u001b[0m\n",
      "\u001b[1;32m<ipython-input-6-b5cc399d1c2b>\u001b[0m in \u001b[0;36mget_candles\u001b[1;34m(product_id, start, end, granularity)\u001b[0m\n\u001b[0;32m     11\u001b[0m         \u001b[0mparams\u001b[0m\u001b[1;33m[\u001b[0m\u001b[1;34m'granularity'\u001b[0m\u001b[1;33m]\u001b[0m \u001b[1;33m=\u001b[0m \u001b[0mgranularity\u001b[0m\u001b[1;33m\u001b[0m\u001b[0m\n\u001b[0;32m     12\u001b[0m     \u001b[0mcandles\u001b[0m \u001b[1;33m=\u001b[0m \u001b[0m_get\u001b[0m\u001b[1;33m(\u001b[0m\u001b[1;34m'/products/{}/candles'\u001b[0m\u001b[1;33m.\u001b[0m\u001b[0mformat\u001b[0m\u001b[1;33m(\u001b[0m\u001b[0mstr\u001b[0m\u001b[1;33m(\u001b[0m\u001b[0mproduct_id\u001b[0m\u001b[1;33m)\u001b[0m\u001b[1;33m)\u001b[0m\u001b[1;33m,\u001b[0m \u001b[0mparams\u001b[0m\u001b[1;33m=\u001b[0m\u001b[0mparams\u001b[0m\u001b[1;33m)\u001b[0m\u001b[1;33m\u001b[0m\u001b[0m\n\u001b[1;32m---> 13\u001b[1;33m     \u001b[0mcandles\u001b[0m \u001b[1;33m=\u001b[0m \u001b[0mpd\u001b[0m\u001b[1;33m.\u001b[0m\u001b[0mDataFrame\u001b[0m\u001b[1;33m(\u001b[0m\u001b[0mcandles\u001b[0m\u001b[1;33m,\u001b[0m \u001b[0mcolumns\u001b[0m \u001b[1;33m=\u001b[0m \u001b[1;33m[\u001b[0m \u001b[1;34m'time'\u001b[0m\u001b[1;33m,\u001b[0m \u001b[1;34m'low'\u001b[0m\u001b[1;33m,\u001b[0m \u001b[1;34m'high'\u001b[0m\u001b[1;33m,\u001b[0m \u001b[1;34m'open'\u001b[0m\u001b[1;33m,\u001b[0m \u001b[1;34m'close'\u001b[0m\u001b[1;33m,\u001b[0m \u001b[1;34m'volume'\u001b[0m \u001b[1;33m]\u001b[0m\u001b[1;33m)\u001b[0m\u001b[1;33m\u001b[0m\u001b[0m\n\u001b[0m\u001b[0;32m     14\u001b[0m     \u001b[0mcandles\u001b[0m\u001b[1;33m[\u001b[0m\u001b[1;34m'time_string'\u001b[0m\u001b[1;33m]\u001b[0m \u001b[1;33m=\u001b[0m \u001b[0mcandles\u001b[0m\u001b[1;33m[\u001b[0m\u001b[1;34m'time'\u001b[0m\u001b[1;33m]\u001b[0m\u001b[1;33m.\u001b[0m\u001b[0mapply\u001b[0m\u001b[1;33m(\u001b[0m\u001b[0mdatetime\u001b[0m\u001b[1;33m.\u001b[0m\u001b[0mfromtimestamp\u001b[0m\u001b[1;33m)\u001b[0m\u001b[1;33m\u001b[0m\u001b[0m\n\u001b[0;32m     15\u001b[0m     \u001b[0mcandles\u001b[0m\u001b[1;33m.\u001b[0m\u001b[0msort_values\u001b[0m\u001b[1;33m(\u001b[0m\u001b[1;34m'time'\u001b[0m\u001b[1;33m,\u001b[0m \u001b[0minplace\u001b[0m\u001b[1;33m=\u001b[0m \u001b[1;32mTrue\u001b[0m\u001b[1;33m)\u001b[0m\u001b[1;33m\u001b[0m\u001b[0m\n",
      "\u001b[1;32m~\\AppData\\Local\\Continuum\\anaconda3\\lib\\site-packages\\pandas\\core\\frame.py\u001b[0m in \u001b[0;36m__init__\u001b[1;34m(self, data, index, columns, dtype, copy)\u001b[0m\n\u001b[0;32m    273\u001b[0m                                  dtype=dtype, copy=copy)\n\u001b[0;32m    274\u001b[0m         \u001b[1;32melif\u001b[0m \u001b[0misinstance\u001b[0m\u001b[1;33m(\u001b[0m\u001b[0mdata\u001b[0m\u001b[1;33m,\u001b[0m \u001b[0mdict\u001b[0m\u001b[1;33m)\u001b[0m\u001b[1;33m:\u001b[0m\u001b[1;33m\u001b[0m\u001b[0m\n\u001b[1;32m--> 275\u001b[1;33m             \u001b[0mmgr\u001b[0m \u001b[1;33m=\u001b[0m \u001b[0mself\u001b[0m\u001b[1;33m.\u001b[0m\u001b[0m_init_dict\u001b[0m\u001b[1;33m(\u001b[0m\u001b[0mdata\u001b[0m\u001b[1;33m,\u001b[0m \u001b[0mindex\u001b[0m\u001b[1;33m,\u001b[0m \u001b[0mcolumns\u001b[0m\u001b[1;33m,\u001b[0m \u001b[0mdtype\u001b[0m\u001b[1;33m=\u001b[0m\u001b[0mdtype\u001b[0m\u001b[1;33m)\u001b[0m\u001b[1;33m\u001b[0m\u001b[0m\n\u001b[0m\u001b[0;32m    276\u001b[0m         \u001b[1;32melif\u001b[0m \u001b[0misinstance\u001b[0m\u001b[1;33m(\u001b[0m\u001b[0mdata\u001b[0m\u001b[1;33m,\u001b[0m \u001b[0mma\u001b[0m\u001b[1;33m.\u001b[0m\u001b[0mMaskedArray\u001b[0m\u001b[1;33m)\u001b[0m\u001b[1;33m:\u001b[0m\u001b[1;33m\u001b[0m\u001b[0m\n\u001b[0;32m    277\u001b[0m             \u001b[1;32mimport\u001b[0m \u001b[0mnumpy\u001b[0m\u001b[1;33m.\u001b[0m\u001b[0mma\u001b[0m\u001b[1;33m.\u001b[0m\u001b[0mmrecords\u001b[0m \u001b[1;32mas\u001b[0m \u001b[0mmrecords\u001b[0m\u001b[1;33m\u001b[0m\u001b[0m\n",
      "\u001b[1;32m~\\AppData\\Local\\Continuum\\anaconda3\\lib\\site-packages\\pandas\\core\\frame.py\u001b[0m in \u001b[0;36m_init_dict\u001b[1;34m(self, data, index, columns, dtype)\u001b[0m\n\u001b[0;32m    367\u001b[0m             \u001b[1;31m# raise ValueError if only scalars in dict\u001b[0m\u001b[1;33m\u001b[0m\u001b[1;33m\u001b[0m\u001b[0m\n\u001b[0;32m    368\u001b[0m             \u001b[1;32mif\u001b[0m \u001b[0mindex\u001b[0m \u001b[1;32mis\u001b[0m \u001b[1;32mNone\u001b[0m\u001b[1;33m:\u001b[0m\u001b[1;33m\u001b[0m\u001b[0m\n\u001b[1;32m--> 369\u001b[1;33m                 \u001b[0mextract_index\u001b[0m\u001b[1;33m(\u001b[0m\u001b[0mlist\u001b[0m\u001b[1;33m(\u001b[0m\u001b[0mdata\u001b[0m\u001b[1;33m.\u001b[0m\u001b[0mvalues\u001b[0m\u001b[1;33m(\u001b[0m\u001b[1;33m)\u001b[0m\u001b[1;33m)\u001b[0m\u001b[1;33m)\u001b[0m\u001b[1;33m\u001b[0m\u001b[0m\n\u001b[0m\u001b[0;32m    370\u001b[0m \u001b[1;33m\u001b[0m\u001b[0m\n\u001b[0;32m    371\u001b[0m             \u001b[1;31m# prefilter if columns passed\u001b[0m\u001b[1;33m\u001b[0m\u001b[1;33m\u001b[0m\u001b[0m\n",
      "\u001b[1;32m~\\AppData\\Local\\Continuum\\anaconda3\\lib\\site-packages\\pandas\\core\\frame.py\u001b[0m in \u001b[0;36mextract_index\u001b[1;34m(data)\u001b[0m\n\u001b[0;32m   5533\u001b[0m \u001b[1;33m\u001b[0m\u001b[0m\n\u001b[0;32m   5534\u001b[0m         \u001b[1;32mif\u001b[0m \u001b[1;32mnot\u001b[0m \u001b[0mindexes\u001b[0m \u001b[1;32mand\u001b[0m \u001b[1;32mnot\u001b[0m \u001b[0mraw_lengths\u001b[0m\u001b[1;33m:\u001b[0m\u001b[1;33m\u001b[0m\u001b[0m\n\u001b[1;32m-> 5535\u001b[1;33m             raise ValueError('If using all scalar values, you must pass'\n\u001b[0m\u001b[0;32m   5536\u001b[0m                              ' an index')\n\u001b[0;32m   5537\u001b[0m \u001b[1;33m\u001b[0m\u001b[0m\n",
      "\u001b[1;31mValueError\u001b[0m: If using all scalar values, you must pass an index"
     ]
    }
   ],
   "source": [
    "def fill_gap(product_id, candle_width_seconds):\n",
    "    start = pd.to_datetime(fire.get_data('ETH-USD')['time'].max())\n",
    "    now = datetime.now()\n",
    "    while start < now:\n",
    "        end = start + timedelta(seconds = 60 * 200)\n",
    "        candles = get_candles(product_id, start=start, end=end, granularity=candle_width_seconds)\n",
    "        add_candles(product_id, candles)\n",
    "        start = end\n",
    "        \n",
    "fill_gap(['ETH-USD'], 60)"
   ]
  },
  {
   "cell_type": "code",
   "execution_count": 12,
   "metadata": {
    "collapsed": true,
    "scrolled": false
   },
   "outputs": [],
   "source": [
    "end = datetime.now() - timedelta(seconds = 60 * 60 * 12)\n",
    "start = end - timedelta(seconds = 60 * 200)\n",
    "initalize(products['id'], start, end, 60.0000000000001)\n",
    "tuner = threading.Thread(target = keep_tuned)\n",
    "tuner.start()"
   ]
  },
  {
   "cell_type": "code",
   "execution_count": 26,
   "metadata": {
    "collapsed": true
   },
   "outputs": [],
   "source": [
    "candles = fire.get_data('LTC-USD')\n",
    "candles.set_index('time', inplace= True)"
   ]
  },
  {
   "cell_type": "code",
   "execution_count": 22,
   "metadata": {},
   "outputs": [],
   "source": [
    "import keras"
   ]
  },
  {
   "cell_type": "code",
   "execution_count": 28,
   "metadata": {
    "scrolled": false
   },
   "outputs": [
    {
     "data": {
      "image/png": "[encoded data removed]",
      "text/plain": [
       "<matplotlib.figure.Figure at 0x8366eb8>"
      ]
     },
     "metadata": {},
     "output_type": "display_data"
    }
   ],
   "source": [
    "def get_jumpsize(candles):\n",
    "    last_low = candles.iloc[-1]['low']\n",
    "    third_last_high = candles.iloc[-3]['high']\n",
    "    percentage_difference = (last_low - third_last_high  )/third_last_high\n",
    "    if percentage_difference > 0.005:\n",
    "        chart_candles(candles)\n",
    "        return 1\n",
    "    return 0 \n",
    "\n",
    "def get_X_y(candles, time_steps):\n",
    "    X = []\n",
    "    y = []\n",
    "    for num in range(0, len(candles) - time_steps):\n",
    "        start = num\n",
    "        end = start + time_steps\n",
    "        current = candles.iloc[start:end].copy()\n",
    "        y.append(get_jumpsize(current))\n",
    "        current = current.iloc[0:time_steps-3]\n",
    "        first_open = current.iloc[0]['open']\n",
    "        first_volume = current.iloc[0]['volume']\n",
    "        current[['low', 'high', 'open', 'close']] = (current[['low', 'high', 'open', 'close']] - first_open)/first_open\n",
    "        current['volume'] = (current['volume'] - first_volume)/first_volume\n",
    "        X.append(current[['low', 'high', 'open', 'close', 'volume']].values)\n",
    "        \n",
    "    return np.array(X) , np.array(y)\n",
    "\n",
    "\n",
    "X, y = get_X_y(candles.iloc[0:100], 50)"
   ]
  }
 ],
 "metadata": {
  "kernelspec": {
   "display_name": "Python 3",
   "language": "python",
   "name": "python3"
  },
  "language_info": {
   "codemirror_mode": {
    "name": "ipython",
    "version": 3
   },
   "file_extension": ".py",
   "mimetype": "text/x-python",
   "name": "python",
   "nbconvert_exporter": "python",
   "pygments_lexer": "ipython3",
   "version": "3.5.2"
  }
 },
 "nbformat": 4,
 "nbformat_minor": 2
}
