{
 "cells": [
  {
   "cell_type": "code",
   "execution_count": 2,
   "metadata": {},
   "outputs": [],
   "source": [
    "import sql_tools\n",
    "import sqlite3\n",
    "import pandas as pd\n",
    "import numpy as np\n",
    "\n",
    "\n",
    "fire = sql_tools.IcePick(sqlite3, 'fire.db')"
   ]
  },
  {
   "cell_type": "code",
   "execution_count": 14,
   "metadata": {},
   "outputs": [],
   "source": [
    "pair_names = list(fire.read_sql(\"SELEcT * from sqlite_master where type = 'table'\")['name'])"
   ]
  },
  {
   "cell_type": "code",
   "execution_count": 20,
   "metadata": {},
   "outputs": [],
   "source": [
    "pair_data = {}\n",
    "def get_data(currency):\n",
    "    data = fire.read_sql(\"SELECT * FROM [{}]\".format(currency))\n",
    "    data.index = data['time']\n",
    "    return data\n",
    "\n",
    "for pair_name in pair_names:\n",
    "    pair_data[pair_name] = get_data(pair_name)"
   ]
  },
  {
   "cell_type": "code",
   "execution_count": 24,
   "metadata": {},
   "outputs": [
    {
     "name": "stdout",
     "output_type": "stream",
     "text": [
      "['ETH-BTC', 'ETH-USD', 'BTC-USD', 'BTC-EUR', 'LTC-EUR', 'LTC-BTC', 'ETH-EUR', 'BTC-GBP', 'LTC-USD']\n"
     ]
    }
   ],
   "source": [
    "print(list(pair_data.keys()))"
   ]
  },
  {
   "cell_type": "code",
   "execution_count": null,
   "metadata": {},
   "outputs": [],
   "source": [
    "def win_condition(candles):\n",
    "    "
   ]
  }
 ],
 "metadata": {
  "kernelspec": {
   "display_name": "Python 3",
   "language": "python",
   "name": "python3"
  },
  "language_info": {
   "codemirror_mode": {
    "name": "ipython",
    "version": 3
   },
   "file_extension": ".py",
   "mimetype": "text/x-python",
   "name": "python",
   "nbconvert_exporter": "python",
   "pygments_lexer": "ipython3",
   "version": "3.5.2"
  }
 },
 "nbformat": 4,
 "nbformat_minor": 2
}
