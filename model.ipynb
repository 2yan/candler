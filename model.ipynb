{
 "cells": [
  {
   "cell_type": "code",
   "execution_count": 33,
   "metadata": {},
   "outputs": [],
   "source": [
    "import sql_tools\n",
    "import sqlite3\n",
    "import pandas as pd\n",
    "import numpy as np\n",
    "import matplotlib.pyplot as plt\n",
    "from matplotlib.finance import candlestick_ohlc\n",
    "\n",
    "fire = sql_tools.IcePick(sqlite3, 'fire.db')"
   ]
  },
  {
   "cell_type": "code",
   "execution_count": 34,
   "metadata": {},
   "outputs": [],
   "source": [
    "def chart_candles(candles):\n",
    "        ohlc = []\n",
    "        for index in candles.index:\n",
    "            time = index\n",
    "            open_= candles.loc[index, 'open']\n",
    "            high = candles.loc[index, 'high']\n",
    "            low= candles.loc[index, 'low']\n",
    "            close = candles.loc[index, 'close']\n",
    "            ohlc.append([time, open_, high, low, close])\n",
    "        \n",
    "        fig = plt.figure()\n",
    "        fig.set_size_inches(13, 7)\n",
    "        ax1 = plt.subplot2grid((1,1), (0,0))\n",
    "        candlestick_ohlc(ax1, ohlc, width=0.4)\n",
    "        plt.show()"
   ]
  },
  {
   "cell_type": "code",
   "execution_count": 35,
   "metadata": {},
   "outputs": [],
   "source": [
    "pair_names = list(fire.read_sql(\"SELEcT * from sqlite_master where type = 'table'\")['name'])"
   ]
  },
  {
   "cell_type": "code",
   "execution_count": 36,
   "metadata": {},
   "outputs": [],
   "source": [
    "pair_data = {}\n",
    "def get_data(currency):\n",
    "    data = fire.read_sql(\"SELECT * FROM [{}]\".format(currency))\n",
    "    data.index = data['time']\n",
    "    data.sort_values('time', inplace = True)\n",
    "    return data\n",
    "\n",
    "for pair_name in pair_names:\n",
    "    pair_data[pair_name] = get_data(pair_name)"
   ]
  },
  {
   "cell_type": "code",
   "execution_count": 37,
   "metadata": {},
   "outputs": [
    {
     "name": "stdout",
     "output_type": "stream",
     "text": [
      "['BTC-EUR', 'LTC-EUR', 'LTC-BTC', 'BTC-GBP', 'BTC-USD', 'ETH-USD', 'LTC-USD', 'ETH-BTC', 'ETH-EUR']\n"
     ]
    }
   ],
   "source": [
    "print(list(pair_data.keys()))"
   ]
  },
  {
   "cell_type": "code",
   "execution_count": 38,
   "metadata": {},
   "outputs": [],
   "source": [
    "def win_condition(candles_in, prediction_gap = 2):\n",
    "    result = []\n",
    "    for i, index in enumerate(candles.index):\n",
    "        if i < prediction_gap:\n",
    "            result.append(0)\n",
    "        if i >= prediction_gap :\n",
    "            current_low = candles.loc[index, 'low']\n",
    "            last_high = candles.iloc[i - prediction_gap]['low']\n",
    "            if current_low < last_high:\n",
    "                result.append(1)\n",
    "            if current_low >= last_high:\n",
    "                result.append(0)\n",
    "    return result\n",
    "\n",
    "\n"
   ]
  },
  {
   "cell_type": "code",
   "execution_count": 47,
   "metadata": {},
   "outputs": [],
   "source": [
    "def get_diffs(x):\n",
    "    last_index = x.index[0]\n",
    "    for index in x.index:\n",
    "        x.loc[index, 'time_diff'] = index - last_index\n",
    "\n",
    "    return x"
   ]
  },
  {
   "cell_type": "code",
   "execution_count": 51,
   "metadata": {},
   "outputs": [],
   "source": [
    "for pair_name in pair_data.keys():\n",
    "    pair_data[pair_name] = get_diffs(pair_data[pair_name])"
   ]
  },
  {
   "cell_type": "code",
   "execution_count": 55,
   "metadata": {},
   "outputs": [
    {
     "data": {
      "text/plain": [
       "dict_keys(['BTC-EUR', 'LTC-EUR', 'LTC-BTC', 'BTC-GBP', 'BTC-USD', 'ETH-USD', 'LTC-USD', 'ETH-BTC', 'ETH-EUR'])"
      ]
     },
     "execution_count": 55,
     "metadata": {},
     "output_type": "execute_result"
    }
   ],
   "source": [
    "pair_data.keys()"
   ]
  },
  {
   "cell_type": "code",
   "execution_count": 62,
   "metadata": {},
   "outputs": [
    {
     "data": {
      "text/html": [
       "<div>\n",
       "<style>\n",
       "    .dataframe thead tr:only-child th {\n",
       "        text-align: right;\n",
       "    }\n",
       "\n",
       "    .dataframe thead th {\n",
       "        text-align: left;\n",
       "    }\n",
       "\n",
       "    .dataframe tbody tr th {\n",
       "        vertical-align: top;\n",
       "    }\n",
       "</style>\n",
       "<table border=\"1\" class=\"dataframe\">\n",
       "  <thead>\n",
       "    <tr style=\"text-align: right;\">\n",
       "      <th></th>\n",
       "      <th>time</th>\n",
       "      <th>low</th>\n",
       "      <th>high</th>\n",
       "      <th>open</th>\n",
       "      <th>close</th>\n",
       "      <th>volume</th>\n",
       "      <th>time_string</th>\n",
       "      <th>time_diffs</th>\n",
       "      <th>time_diff</th>\n",
       "    </tr>\n",
       "    <tr>\n",
       "      <th>time</th>\n",
       "      <th></th>\n",
       "      <th></th>\n",
       "      <th></th>\n",
       "      <th></th>\n",
       "      <th></th>\n",
       "      <th></th>\n",
       "      <th></th>\n",
       "      <th></th>\n",
       "      <th></th>\n",
       "    </tr>\n",
       "  </thead>\n",
       "  <tbody>\n",
       "    <tr>\n",
       "      <th>1513451340</th>\n",
       "      <td>1513451340</td>\n",
       "      <td>298.9</td>\n",
       "      <td>298.95</td>\n",
       "      <td>298.9</td>\n",
       "      <td>298.95</td>\n",
       "      <td>9.631034</td>\n",
       "      <td>2017-12-16 11:09:00</td>\n",
       "      <td>43080</td>\n",
       "      <td>55080.0</td>\n",
       "    </tr>\n",
       "  </tbody>\n",
       "</table>\n",
       "</div>"
      ],
      "text/plain": [
       "                  time    low    high   open   close    volume  \\\n",
       "time                                                             \n",
       "1513451340  1513451340  298.9  298.95  298.9  298.95  9.631034   \n",
       "\n",
       "                    time_string  time_diffs  time_diff  \n",
       "time                                                    \n",
       "1513451340  2017-12-16 11:09:00       43080    55080.0  "
      ]
     },
     "execution_count": 62,
     "metadata": {},
     "output_type": "execute_result"
    }
   ],
   "source": [
    "x = pair_data['LTC-USD']\n",
    "x[x['time_diffs'] > 60]"
   ]
  }
 ],
 "metadata": {
  "kernelspec": {
   "display_name": "Python 3",
   "language": "python",
   "name": "python3"
  },
  "language_info": {
   "codemirror_mode": {
    "name": "ipython",
    "version": 3
   },
   "file_extension": ".py",
   "mimetype": "text/x-python",
   "name": "python",
   "nbconvert_exporter": "python",
   "pygments_lexer": "ipython3",
   "version": "3.5.2"
  }
 },
 "nbformat": 4,
 "nbformat_minor": 2
}
