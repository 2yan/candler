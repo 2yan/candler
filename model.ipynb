{
 "cells": [
  {
   "cell_type": "code",
   "execution_count": 1,
   "metadata": {},
   "outputs": [
    {
     "name": "stderr",
     "output_type": "stream",
     "text": [
      "/home/ryan/.local/lib/python3.5/site-packages/matplotlib/cbook.py:136: MatplotlibDeprecationWarning: The finance module has been deprecated in mpl 2.0 and will be removed in mpl 2.2. Please use the module mpl_finance instead.\n",
      "  warnings.warn(message, mplDeprecation, stacklevel=1)\n"
     ]
    }
   ],
   "source": [
    "import sql_tools\n",
    "import sqlite3\n",
    "import pandas as pd\n",
    "import numpy as np\n",
    "import matplotlib.pyplot as plt\n",
    "from matplotlib.finance import candlestick_ohlc\n",
    "\n",
    "fire = sql_tools.IcePick(sqlite3, 'fire.db')"
   ]
  },
  {
   "cell_type": "code",
   "execution_count": 2,
   "metadata": {},
   "outputs": [],
   "source": [
    "def chart_candles(candles):\n",
    "        ohlc = []\n",
    "        for index in candles.index:\n",
    "            time = index\n",
    "            open_= candles.loc[index, 'open']\n",
    "            high = candles.loc[index, 'high']\n",
    "            low= candles.loc[index, 'low']\n",
    "            close = candles.loc[index, 'close']\n",
    "            ohlc.append([time, open_, high, low, close])\n",
    "        \n",
    "        fig = plt.figure()\n",
    "        fig.set_size_inches(13, 7)\n",
    "        ax1 = plt.subplot2grid((1,1), (0,0))\n",
    "        candlestick_ohlc(ax1, ohlc, width=0.4)\n",
    "        plt.show()"
   ]
  },
  {
   "cell_type": "code",
   "execution_count": 3,
   "metadata": {},
   "outputs": [],
   "source": [
    "pair_names = list(fire.read_sql(\"SELEcT * from sqlite_master where type = 'table'\")['name'])"
   ]
  },
  {
   "cell_type": "code",
   "execution_count": 4,
   "metadata": {},
   "outputs": [],
   "source": [
    "pair_data = {}\n",
    "def get_data(currency):\n",
    "    data = fire.read_sql(\"SELECT * FROM [{}]\".format(currency))\n",
    "    data.index = data['time']\n",
    "    data.sort_values('time', inplace = True)\n",
    "    return data\n",
    "\n",
    "for pair_name in pair_names:\n",
    "    pair_data[pair_name] = get_data(pair_name)"
   ]
  },
  {
   "cell_type": "code",
   "execution_count": 5,
   "metadata": {},
   "outputs": [
    {
     "name": "stdout",
     "output_type": "stream",
     "text": [
      "['BTC-EUR', 'LTC-EUR', 'LTC-BTC', 'BTC-GBP', 'BTC-USD', 'ETH-USD', 'LTC-USD', 'ETH-BTC', 'ETH-EUR']\n"
     ]
    }
   ],
   "source": [
    "print(list(pair_data.keys()))"
   ]
  },
  {
   "cell_type": "code",
   "execution_count": 6,
   "metadata": {},
   "outputs": [],
   "source": [
    "def win_condition(candles_in, prediction_gap = 2):\n",
    "    result = []\n",
    "    for i, index in enumerate(candles.index):\n",
    "        if i < prediction_gap:\n",
    "            result.append(0)\n",
    "        if i >= prediction_gap :\n",
    "            current_low = candles.loc[index, 'low']\n",
    "            last_high = candles.iloc[i - prediction_gap]['low']\n",
    "            if current_low < last_high:\n",
    "                result.append(1)\n",
    "            if current_low >= last_high:\n",
    "                result.append(0)\n",
    "    return result\n",
    "\n",
    "\n"
   ]
  },
  {
   "cell_type": "code",
   "execution_count": 11,
   "metadata": {},
   "outputs": [],
   "source": [
    "x = pair_data['BTC-USD']"
   ]
  },
  {
   "cell_type": "code",
   "execution_count": 12,
   "metadata": {},
   "outputs": [],
   "source": [
    "time_diffs = []\n",
    "last_index = x.index[0]\n",
    "for index in x.index:\n",
    "    time_diffs.append(index - last_index)\n",
    "    last_index = index\n",
    "    \n",
    "time_diffs = np.array(time_diffs)\n",
    "x['time_diffs'] = time_diffs"
   ]
  },
  {
   "cell_type": "markdown",
   "metadata": {},
   "source": [
    "x.loc[:1513451400]"
   ]
  }
 ],
 "metadata": {
  "kernelspec": {
   "display_name": "Python 3",
   "language": "python",
   "name": "python3"
  },
  "language_info": {
   "codemirror_mode": {
    "name": "ipython",
    "version": 3
   },
   "file_extension": ".py",
   "mimetype": "text/x-python",
   "name": "python",
   "nbconvert_exporter": "python",
   "pygments_lexer": "ipython3",
   "version": "3.5.2"
  }
 },
 "nbformat": 4,
 "nbformat_minor": 2
}
