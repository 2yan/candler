{
 "cells": [
  {
   "cell_type": "code",
   "execution_count": 47,
   "metadata": {},
   "outputs": [],
   "source": [
    "import sql_tools\n",
    "import sqlite3\n",
    "import pandas as pd\n",
    "import numpy as np\n",
    "import matplotlib.pyplot as plt\n",
    "from matplotlib.finance import candlestick_ohlc\n",
    "\n",
    "fire = sql_tools.IcePick(sqlite3, 'fire.db')"
   ]
  },
  {
   "cell_type": "code",
   "execution_count": 48,
   "metadata": {},
   "outputs": [],
   "source": [
    "def chart_candles(candles):\n",
    "        ohlc = []\n",
    "        for index in candles.index:\n",
    "            time = index\n",
    "            open_= candles.loc[index, 'open']\n",
    "            high = candles.loc[index, 'high']\n",
    "            low= candles.loc[index, 'low']\n",
    "            close = candles.loc[index, 'close']\n",
    "            ohlc.append([time, open_, high, low, close])\n",
    "        \n",
    "        fig = plt.figure()\n",
    "        fig.set_size_inches(13, 7)\n",
    "        ax1 = plt.subplot2grid((1,1), (0,0))\n",
    "        candlestick_ohlc(ax1, ohlc, width=0.4)\n",
    "        plt.show()"
   ]
  },
  {
   "cell_type": "code",
   "execution_count": 26,
   "metadata": {},
   "outputs": [],
   "source": [
    "pair_names = list(fire.read_sql(\"SELEcT * from sqlite_master where type = 'table'\")['name'])"
   ]
  },
  {
   "cell_type": "code",
   "execution_count": 27,
   "metadata": {},
   "outputs": [],
   "source": [
    "pair_data = {}\n",
    "def get_data(currency):\n",
    "    data = fire.read_sql(\"SELECT * FROM [{}]\".format(currency))\n",
    "    data.index = data['time']\n",
    "    return data\n",
    "\n",
    "for pair_name in pair_names:\n",
    "    pair_data[pair_name] = get_data(pair_name)"
   ]
  },
  {
   "cell_type": "code",
   "execution_count": 28,
   "metadata": {},
   "outputs": [
    {
     "name": "stdout",
     "output_type": "stream",
     "text": [
      "['ETH-BTC', 'ETH-USD', 'BTC-USD', 'BTC-EUR', 'LTC-EUR', 'LTC-BTC', 'ETH-EUR', 'BTC-GBP', 'LTC-USD']\n"
     ]
    }
   ],
   "source": [
    "print(list(pair_data.keys()))"
   ]
  },
  {
   "cell_type": "code",
   "execution_count": 71,
   "metadata": {},
   "outputs": [],
   "source": [
    "def win_condition(candles_in, prediction_gap = 2):\n",
    "    result = []\n",
    "    for i, index in enumerate(candles.index):\n",
    "        if i < prediction_gap:\n",
    "            result.append(0)\n",
    "        if i >= prediction_gap :\n",
    "            current_low = candles.loc[index, 'low']\n",
    "            last_high = candles.iloc[i - prediction_gap]['low']\n",
    "            if current_low < last_high:\n",
    "                result.append(1)\n",
    "            if current_low >= last_high:\n",
    "                result.append(0)\n",
    "    return result\n",
    "x = pair_data['ETH-USD']\n",
    "x['win'] = win_condition(x)\n"
   ]
  },
  {
   "cell_type": "code",
   "execution_count": null,
   "metadata": {},
   "outputs": [],
   "source": [
    "chart_candles(x)"
   ]
  }
 ],
 "metadata": {
  "kernelspec": {
   "display_name": "Python 3",
   "language": "python",
   "name": "python3"
  },
  "language_info": {
   "codemirror_mode": {
    "name": "ipython",
    "version": 3
   },
   "file_extension": ".py",
   "mimetype": "text/x-python",
   "name": "python",
   "nbconvert_exporter": "python",
   "pygments_lexer": "ipython3",
   "version": "3.5.2"
  }
 },
 "nbformat": 4,
 "nbformat_minor": 2
}
